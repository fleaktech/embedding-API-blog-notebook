{
 "cells": [
  {
   "cell_type": "markdown",
   "metadata": {},
   "source": [
    "Saving Electronics Dataset to Pinecone for Rerank API\n",
    "\n",
    "This notebook demonstrates how to save the Electronics Dataset into Pinecone, structured to match the rerank embedding API from the Fleak AI webinar.\n",
    "\n",
    "Dataset:\n",
    "- The dataset used in this notebook is the Electronics Dataset from Kaggle:\n",
    "https://www.kaggle.com/datasets/elvinrustam/electronics-dataset/data\n",
    "\n",
    "References:\n",
    "- Fleak AI Webinar Documentation: https://docs.fleak.ai/1.0/tutorials/product-recommendation-with-rerank\n",
    "\n",
    "Required Libraries\n",
    "Make sure you have the following libraries installed:\n",
    "- pandas\n",
    "- pinecone-client\n",
    "- sentence-transformers\n",
    "- tqdm\n",
    "\n",
    "You can install them using pip:\n",
    "pip install pandas pinecone-client sentence-transformers tqdm"
   ]
  },
  {
   "cell_type": "code",
   "execution_count": null,
   "metadata": {},
   "outputs": [],
   "source": [
    "# Import Libraries\n",
    "\n",
    "import pandas as pd\n",
    "import pinecone\n",
    "from sentence_transformers import SentenceTransformer\n",
    "from tqdm.auto import tqdm"
   ]
  },
  {
   "cell_type": "code",
   "execution_count": null,
   "metadata": {},
   "outputs": [],
   "source": [
    "# Load and Prepare Data\n",
    "\n",
    "# Load the Electronics Dataset\n",
    "# Make sure you have downloaded the 'electronics.csv' file from Kaggle and placed it in the same directory as this notebook\n",
    "df = pd.read_csv(\"electronics.csv\")\n",
    "\n",
    "# Execute the SQL-like transformation\n",
    "df['description'] = df['title'] + ': ' + df['feature']\n",
    "df = df[['title', 'Sub Category', 'Price', 'discount', 'rating', 'currency', 'description']]\n",
    "df = df.rename(columns={'Sub Category': 'subcategory', 'Price': 'price'})\n",
    "\n",
    "# Display the first few rows of the transformed dataset\n",
    "print(df.head())"
   ]
  },
  {
   "cell_type": "code",
   "execution_count": null,
   "metadata": {},
   "outputs": [],
   "source": [
    "## Initialize SentenceTransformer Model\n",
    "\n",
    "model = SentenceTransformer('all-MiniLM-L6-v2')\n",
    "\n",
    "# Function to create embeddings\n",
    "def create_embeddings(texts):\n",
    "    return model.encode(texts).tolist()"
   ]
  },
  {
   "cell_type": "code",
   "execution_count": null,
   "metadata": {},
   "outputs": [],
   "source": [
    "## Prepare Data for Pinecone\n",
    "\n",
    "data = []\n",
    "for _, row in tqdm(df.iterrows(), total=len(df)):\n",
    "    item = {\n",
    "        'id': str(row.name),  # Using the index as ID\n",
    "        'metadata': {\n",
    "            'title': row['title'],\n",
    "            'subcategory': row['subcategory'],\n",
    "            'price': row['price'],\n",
    "            'discount': row['discount'],\n",
    "            'rating': row['rating'],\n",
    "            'currency': row['currency'],\n",
    "            'description': row['description']\n",
    "        },\n",
    "        'values': create_embeddings(row['description'])\n",
    "    }\n",
    "    data.append(item)"
   ]
  },
  {
   "cell_type": "code",
   "execution_count": null,
   "metadata": {},
   "outputs": [],
   "source": [
    "## Initialize Pinecone\n",
    "\n",
    "# Replace 'YOUR_API_KEY' and 'YOUR_ENVIRONMENT' with your actual Pinecone credentials\n",
    "pinecone.init(api_key=\"YOUR_API_KEY\", environment=\"YOUR_ENVIRONMENT\")\n",
    "\n",
    "# Create or connect to an index\n",
    "index_name = \"electronics-rerank\"\n",
    "if index_name not in pinecone.list_indexes():\n",
    "    pinecone.create_index(index_name, dimension=384, metric=\"cosine\")\n",
    "\n",
    "index = pinecone.Index(index_name)"
   ]
  },
  {
   "cell_type": "code",
   "execution_count": null,
   "metadata": {},
   "outputs": [],
   "source": [
    "## Upsert Data to Pinecone\n",
    "\n",
    "# Upsert data in batches\n",
    "batch_size = 100\n",
    "for i in tqdm(range(0, len(data), batch_size)):\n",
    "    batch = data[i:i+batch_size]\n",
    "    index.upsert(vectors=batch)\n",
    "\n",
    "print(\"Data successfully uploaded to Pinecone!\")"
   ]
  },
  {
   "cell_type": "code",
   "execution_count": null,
   "metadata": {},
   "outputs": [],
   "source": [
    "## Verify Data in Pinecone\n",
    "\n",
    "# Query the index to check if data was uploaded correctly\n",
    "query_response = index.query(\n",
    "    vector=data[0]['values'],\n",
    "    top_k=1,\n",
    "    include_metadata=True\n",
    ")\n",
    "\n",
    "print(\"Sample query result:\")\n",
    "print(query_response)"
   ]
  },
  {
   "cell_type": "markdown",
   "metadata": {},
   "source": [
    "To use this notebook:\n",
    "- Create a new Jupyter notebook and copy this code into it.\n",
    "- Download the 'electronics.csv' file from the Kaggle dataset and place it in the same directory as your notebook.\n",
    "- Replace \"YOUR_API_KEY\" and \"YOUR_ENVIRONMENT\" with your actual Pinecone credentials.\n",
    "- Run each cell in order, making sure to install any missing libraries.\n",
    "\n",
    "This structured notebook provides a clear, step-by-step process for saving the Electronics Dataset to Pinecone, matching the structure used in the rerank embedding API from the Fleak AI webinar."
   ]
  }
 ],
 "metadata": {
  "language_info": {
   "name": "python"
  }
 },
 "nbformat": 4,
 "nbformat_minor": 2
}
